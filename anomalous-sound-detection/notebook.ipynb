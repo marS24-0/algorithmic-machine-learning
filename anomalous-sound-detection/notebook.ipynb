{
 "cells": [
  {
   "cell_type": "code",
   "execution_count": 1,
   "id": "c4ef0cbf",
   "metadata": {
    "_cell_guid": "21b523fd-bf2b-45b8-aef0-299d3e54c6da",
    "_uuid": "22165675-39fd-411a-9273-66fba58fa343",
    "collapsed": false,
    "execution": {
     "iopub.execute_input": "2023-05-30T13:38:05.394984Z",
     "iopub.status.busy": "2023-05-30T13:38:05.394377Z",
     "iopub.status.idle": "2023-05-30T13:38:09.021674Z",
     "shell.execute_reply": "2023-05-30T13:38:09.020750Z"
    },
    "jupyter": {
     "outputs_hidden": false
    },
    "papermill": {
     "duration": 3.636331,
     "end_time": "2023-05-30T13:38:09.024154",
     "exception": false,
     "start_time": "2023-05-30T13:38:05.387823",
     "status": "completed"
    },
    "tags": []
   },
   "outputs": [],
   "source": [
    "import os\n",
    "from torchaudio.backend.soundfile_backend import load\n",
    "from torch.utils.data import Dataset,DataLoader, ConcatDataset\n",
    "from torchaudio.transforms import MelSpectrogram, Spectrogram\n",
    "import torch.nn as nn\n",
    "import torch \n",
    "import numpy as np\n",
    "import gc\n",
    "from tqdm import tqdm\n",
    "from torchvision.models import convnext_tiny, ConvNeXt_Tiny_Weights, resnet50, ResNet50_Weights,  resnet18, ResNet18_Weights\n",
    "import torch.nn.functional as F\n",
    "import math\n",
    "from torch import flatten\n",
    "import matplotlib.pyplot as plt\n",
    "from torchvision import transforms\n",
    "from torch.optim import lr_scheduler\n"
   ]
  },
  {
   "cell_type": "code",
   "execution_count": 2,
   "id": "ec8bc484",
   "metadata": {
    "_cell_guid": "e157c994-7cc2-4f8e-bc8f-ca684385d875",
    "_uuid": "33e58816-71b0-45ad-8bec-cfcb40435ed3",
    "collapsed": false,
    "execution": {
     "iopub.execute_input": "2023-05-30T13:38:09.035814Z",
     "iopub.status.busy": "2023-05-30T13:38:09.035328Z",
     "iopub.status.idle": "2023-05-30T13:38:09.040349Z",
     "shell.execute_reply": "2023-05-30T13:38:09.039435Z"
    },
    "jupyter": {
     "outputs_hidden": false
    },
    "papermill": {
     "duration": 0.013224,
     "end_time": "2023-05-30T13:38:09.042737",
     "exception": false,
     "start_time": "2023-05-30T13:38:09.029513",
     "status": "completed"
    },
    "tags": []
   },
   "outputs": [],
   "source": [
    "params = {'num_classes': 6,\n",
    "        'batch_size': 4,\n",
    "        'epochs': 9,\n",
    "        'win_len': 626, \n",
    "        'mel_bins': 128, \n",
    "        'hop_len': 313,\n",
    "        'n_fft' : 626,\n",
    "        'use_arcface': False, \n",
    "        'm': 0.5, \n",
    "        's': 30, \n",
    "        'sub': 1\n",
    "       }"
   ]
  },
  {
   "cell_type": "code",
   "execution_count": 3,
   "id": "80354289",
   "metadata": {
    "_cell_guid": "79a43c55-ea60-4da5-815d-613a6e65909e",
    "_uuid": "5e79faeb-c9f5-4a7e-8e80-560f6d04fd2d",
    "collapsed": false,
    "execution": {
     "iopub.execute_input": "2023-05-30T13:38:09.054318Z",
     "iopub.status.busy": "2023-05-30T13:38:09.054038Z",
     "iopub.status.idle": "2023-05-30T13:38:09.064541Z",
     "shell.execute_reply": "2023-05-30T13:38:09.063725Z"
    },
    "jupyter": {
     "outputs_hidden": false
    },
    "papermill": {
     "duration": 0.018231,
     "end_time": "2023-05-30T13:38:09.066483",
     "exception": false,
     "start_time": "2023-05-30T13:38:09.048252",
     "status": "completed"
    },
    "tags": []
   },
   "outputs": [
    {
     "data": {
      "text/plain": [
       "'class AudioDataset(Dataset):\\n    def __init__(self, params, dev_path, eval_path=None, mel_dev_path=None, mel_eval_path=None, transform=None, sr=16000):\\n        self.dev_path = dev_path\\n        self.eval_path = eval_path\\n        self.mel_dev_path = mel_dev_path\\n        self.mel_eval_path = mel_eval_path\\n        self.dev_files = os.listdir(dev_path)\\n        self.eval_files = os.listdir(eval_path) if eval_path else None\\n        self.dev_len = len(self.dev_files)\\n        self.eval_len = len(self.eval_files) if self.eval_files else 0\\n        self.mel_spectrogram = MelSpectrogram(sample_rate=sr, n_fft=params[\\'n_fft\\'], hop_length=params[\\'hop_len\\'], power=2.0)\\n        self.params = params\\n\\n    def __len__(self):\\n        return self.dev_len + self.eval_len\\n\\n    def __getitem__(self, idx):\\n        if idx < self.dev_len:\\n            dataset_path = self.dev_path\\n            mel_dataset_path = self.mel_dev_path\\n            files = self.dev_files\\n        elif 0 < idx - self.dev_len < self.eval_len:\\n            dataset_path = self.eval_path\\n            mel_dataset_path = self.mel_eval_path\\n            files = self.eval_files\\n            idx -= self.dev_len\\n        else:\\n            raise IndexError(f\"list index out of range: len={self.dev_len}, eval is not given\")\\n        \\n        filename = files[idx]\\n        machine_id = int(filename[11:12])\\n        label = filename.split(\\'_\\')[0]\\n        label = 0 if label == \"normal\" or label == \"id\" else 1\\n        target = nn.functional.one_hot(torch.tensor(machine_id), params[\"num_classes\"])\\n        audio, sr = load(dataset_path + \\'/\\' + filename)\\n        \\n        if mel_dataset_path is None:\\n            mel_spectr = self.mel_spectrogram(audio)\\n        else:\\n            mel_spectr = torch.load(mel_dataset_path + \\'/\\' + filename[:-4] + \\'.t\\')\\n        \\n        return audio, mel_spectr, target.float(), torch.FloatTensor([label])'"
      ]
     },
     "execution_count": 3,
     "metadata": {},
     "output_type": "execute_result"
    }
   ],
   "source": [
    "\"\"\"class AudioDataset(Dataset):\n",
    "    def __init__(self, params, dev_path, eval_path=None, mel_dev_path=None, mel_eval_path=None, transform=None, sr=16000):\n",
    "        self.dev_path = dev_path\n",
    "        self.eval_path = eval_path\n",
    "        self.mel_dev_path = mel_dev_path\n",
    "        self.mel_eval_path = mel_eval_path\n",
    "        self.dev_files = os.listdir(dev_path)\n",
    "        self.eval_files = os.listdir(eval_path) if eval_path else None\n",
    "        self.dev_len = len(self.dev_files)\n",
    "        self.eval_len = len(self.eval_files) if self.eval_files else 0\n",
    "        self.mel_spectrogram = MelSpectrogram(sample_rate=sr, n_fft=params['n_fft'], hop_length=params['hop_len'], power=2.0)\n",
    "        self.params = params\n",
    "\n",
    "    def __len__(self):\n",
    "        return self.dev_len + self.eval_len\n",
    "\n",
    "    def __getitem__(self, idx):\n",
    "        if idx < self.dev_len:\n",
    "            dataset_path = self.dev_path\n",
    "            mel_dataset_path = self.mel_dev_path\n",
    "            files = self.dev_files\n",
    "        elif 0 < idx - self.dev_len < self.eval_len:\n",
    "            dataset_path = self.eval_path\n",
    "            mel_dataset_path = self.mel_eval_path\n",
    "            files = self.eval_files\n",
    "            idx -= self.dev_len\n",
    "        else:\n",
    "            raise IndexError(f\"list index out of range: len={self.dev_len}, eval is not given\")\n",
    "        \n",
    "        filename = files[idx]\n",
    "        machine_id = int(filename[11:12])\n",
    "        label = filename.split('_')[0]\n",
    "        label = 0 if label == \"normal\" or label == \"id\" else 1\n",
    "        target = nn.functional.one_hot(torch.tensor(machine_id), params[\"num_classes\"])\n",
    "        audio, sr = load(dataset_path + '/' + filename)\n",
    "        \n",
    "        if mel_dataset_path is None:\n",
    "            mel_spectr = self.mel_spectrogram(audio)\n",
    "        else:\n",
    "            mel_spectr = torch.load(mel_dataset_path + '/' + filename[:-4] + '.t')\n",
    "        \n",
    "        return audio, mel_spectr, target.float(), torch.FloatTensor([label])\"\"\""
   ]
  },
  {
   "cell_type": "code",
   "execution_count": 4,
   "id": "af976e7e",
   "metadata": {
    "execution": {
     "iopub.execute_input": "2023-05-30T13:38:09.077556Z",
     "iopub.status.busy": "2023-05-30T13:38:09.077300Z",
     "iopub.status.idle": "2023-05-30T13:38:09.086705Z",
     "shell.execute_reply": "2023-05-30T13:38:09.085827Z"
    },
    "papermill": {
     "duration": 0.017502,
     "end_time": "2023-05-30T13:38:09.088890",
     "exception": false,
     "start_time": "2023-05-30T13:38:09.071388",
     "status": "completed"
    },
    "tags": []
   },
   "outputs": [],
   "source": [
    "def return_one_hot(label):\n",
    "    label = int(label)\n",
    "    t = np.zeros(6)\n",
    "    t[label] = 1\n",
    "    return torch.tensor(t).float()\n",
    "\n",
    "class AudioDataset(Dataset):\n",
    "\n",
    "    def __init__(self, dir_path, params, transform=None):\n",
    "        self.dir_path = dir_path\n",
    "        self.files = os.listdir(dir_path)\n",
    "        self.transform=transform\n",
    "        self.params=params\n",
    "\n",
    "    def __len__(self):\n",
    "        return len(self.files)\n",
    "\n",
    "    def __getitem__(self, idx):\n",
    "        path=self.dir_path+'/'+self.files[idx]\n",
    "        machine_id=path.split('/')[-1].split('_')[-2]\n",
    "        label_path=path.split('/')[-1].split('_')[0]\n",
    "        \n",
    "        if label_path == \"normal\":\n",
    "            anomaly_label = 1\n",
    "        elif label_path == \"anomaly\":\n",
    "            anomaly_label = 0\n",
    "        else:\n",
    "            anomaly_label = 20\n",
    "            \n",
    "        audio, sr=load(path)\n",
    "        \n",
    "        mel_spectrogram= MelSpectrogram(\n",
    "                            sample_rate=sr,\n",
    "                            n_fft=params['n_fft'],\n",
    "                            hop_length=params['hop_len'],\n",
    "                            power=2.0\n",
    "                        )\n",
    "        \n",
    "        mel_spectr=mel_spectrogram(audio)\n",
    "\n",
    "        #spectrogram = Spectrogram(n_fft=446, win_length=446, hop_length=223)\n",
    "        #spectr=spectrogram(audio)\n",
    "        \n",
    "        if self.transform is not None:\n",
    "            audio=transform(audio)\n",
    "        \n",
    "        return audio, mel_spectr, return_one_hot(machine_id), anomaly_label, self.files[idx]"
   ]
  },
  {
   "cell_type": "code",
   "execution_count": 5,
   "id": "79b6fc1b",
   "metadata": {
    "_cell_guid": "a125984d-e31f-4542-8984-ca6a86e55b29",
    "_uuid": "ade22b2b-9989-4d79-9c39-7cf8cf14365d",
    "collapsed": false,
    "execution": {
     "iopub.execute_input": "2023-05-30T13:38:09.100248Z",
     "iopub.status.busy": "2023-05-30T13:38:09.099489Z",
     "iopub.status.idle": "2023-05-30T13:38:09.107145Z",
     "shell.execute_reply": "2023-05-30T13:38:09.106246Z"
    },
    "jupyter": {
     "outputs_hidden": false
    },
    "papermill": {
     "duration": 0.015224,
     "end_time": "2023-05-30T13:38:09.109062",
     "exception": false,
     "start_time": "2023-05-30T13:38:09.093838",
     "status": "completed"
    },
    "tags": []
   },
   "outputs": [
    {
     "data": {
      "text/plain": [
       "'class TGramNet(nn.Module):\\n    def __init__(self, mel_bins,win_len, hop_len, num_layers=3, **kwargs):\\n        super(TGramNet, self).__init__()\\n        \\n        self.conv1d = nn.Conv1d(in_channels=1, out_channels=mel_bins, kernel_size=win_len, stride=hop_len, padding=win_len // 2, bias=False)\\n        self.conv_encoder = nn.Sequential(\\n            *[nn.Sequential(\\n                nn.LayerNorm(int(160000//hop_len)+1),\\n                nn.GELU(),\\n                nn.Conv1d(mel_bins, mel_bins, 3, 1, 1, bias=False)\\n            ) for _ in range(num_layers)]\\n        )\\n        \\n    def forward(self, x_w):\\n        x_w = self.conv1d(x_w)\\n        x_w = self.conv_encoder(x_w)\\n        return x_w\\n\\nclass STGramNet(nn.Module):\\n    def __init__(self, params):\\n        super(STGramNet, self).__init__()\\n        self.arcface = False\\n        # self.arcface = ArcMarginProduct(in_features=128, out_features=num_classes, m=m, s=s, sub=sub) if use_arcface else use_arcface\\n        self.tgramnet = TGramNet(**params)\\n        # self.classifier = MobileFaceNet(num_class=num_classes, bottleneck_setting=bottleneck_setting)\\n        #self.classifier = nn.Linear(1001, num_classes)\\n        self.classifier = convnext_tiny()\\n        self.classifier.features[0][0] = nn.Conv2d(2, 96, kernel_size=(4, 4), stride=(4, 4))\\n        self.classifier.classifier[2] = nn.Linear(768, 6)\\n        self.transform = transforms.Normalize((0.5, 0.5), (0.25, 0.25))\\n        \\n        \\n    def forward(self, x_wav, x_mel, label=None):\\n        x_t = self.tgramnet(x_wav).unsqueeze(1)\\n        x = torch.cat((x_mel, x_t), dim=1).to(device)\\n        x = self.transform(x)\\n        out = self.classifier(x)\\n        if self.arcface:\\n            out = self.arcface(feature, label)\\n        return out'"
      ]
     },
     "execution_count": 5,
     "metadata": {},
     "output_type": "execute_result"
    }
   ],
   "source": [
    "\"\"\"class TGramNet(nn.Module):\n",
    "    def __init__(self, mel_bins,win_len, hop_len, num_layers=3, **kwargs):\n",
    "        super(TGramNet, self).__init__()\n",
    "        \n",
    "        self.conv1d = nn.Conv1d(in_channels=1, out_channels=mel_bins, kernel_size=win_len, stride=hop_len, padding=win_len // 2, bias=False)\n",
    "        self.conv_encoder = nn.Sequential(\n",
    "            *[nn.Sequential(\n",
    "                nn.LayerNorm(int(160000//hop_len)+1),\n",
    "                nn.GELU(),\n",
    "                nn.Conv1d(mel_bins, mel_bins, 3, 1, 1, bias=False)\n",
    "            ) for _ in range(num_layers)]\n",
    "        )\n",
    "        \n",
    "    def forward(self, x_w):\n",
    "        x_w = self.conv1d(x_w)\n",
    "        x_w = self.conv_encoder(x_w)\n",
    "        return x_w\n",
    "\n",
    "class STGramNet(nn.Module):\n",
    "    def __init__(self, params):\n",
    "        super(STGramNet, self).__init__()\n",
    "        self.arcface = False\n",
    "        # self.arcface = ArcMarginProduct(in_features=128, out_features=num_classes, m=m, s=s, sub=sub) if use_arcface else use_arcface\n",
    "        self.tgramnet = TGramNet(**params)\n",
    "        # self.classifier = MobileFaceNet(num_class=num_classes, bottleneck_setting=bottleneck_setting)\n",
    "        #self.classifier = nn.Linear(1001, num_classes)\n",
    "        self.classifier = convnext_tiny()\n",
    "        self.classifier.features[0][0] = nn.Conv2d(2, 96, kernel_size=(4, 4), stride=(4, 4))\n",
    "        self.classifier.classifier[2] = nn.Linear(768, 6)\n",
    "        self.transform = transforms.Normalize((0.5, 0.5), (0.25, 0.25))\n",
    "        \n",
    "        \n",
    "    def forward(self, x_wav, x_mel, label=None):\n",
    "        x_t = self.tgramnet(x_wav).unsqueeze(1)\n",
    "        x = torch.cat((x_mel, x_t), dim=1).to(device)\n",
    "        x = self.transform(x)\n",
    "        out = self.classifier(x)\n",
    "        if self.arcface:\n",
    "            out = self.arcface(feature, label)\n",
    "        return out\"\"\""
   ]
  },
  {
   "cell_type": "code",
   "execution_count": 6,
   "id": "d0b8717f",
   "metadata": {
    "execution": {
     "iopub.execute_input": "2023-05-30T13:38:09.120436Z",
     "iopub.status.busy": "2023-05-30T13:38:09.119803Z",
     "iopub.status.idle": "2023-05-30T13:38:09.126764Z",
     "shell.execute_reply": "2023-05-30T13:38:09.125967Z"
    },
    "papermill": {
     "duration": 0.014812,
     "end_time": "2023-05-30T13:38:09.128818",
     "exception": false,
     "start_time": "2023-05-30T13:38:09.114006",
     "status": "completed"
    },
    "tags": []
   },
   "outputs": [
    {
     "data": {
      "text/plain": [
       "\"class ArcFace(nn.Module):\\n    def __init__(self, embed_size, num_classes, scale=64, margin=0.5, easy_margin=False, **kwargs):\\n        super().__init__()\\n        self.scale = scale\\n        self.margin = margin\\n        self.ce = nn.CrossEntropyLoss()\\n        self.weight = nn.Parameter(torch.FloatTensor(num_classes, embed_size))\\n        self.easy_margin = easy_margin\\n        self.cos_m = math.cos(margin)\\n        self.sin_m = math.sin(margin)\\n        self.th = math.cos(math.pi - margin)\\n        self.mm = math.sin(math.pi - margin) * margin\\n\\n        nn.init.xavier_uniform_(self.weight)\\n\\n    def forward(self, embedding: torch.Tensor, ground_truth):\\n        # --------------------------- cos(theta) & phi(theta) ---------------------------\\n        cos_theta = F.linear(F.normalize(embedding), F.normalize(self.weight)).clamp(-1 + 1e-7, 1 - 1e-7)\\n        sin_theta = torch.sqrt((1.0 - torch.pow(cos_theta, 2)).clamp(-1 + 1e-7, 1 - 1e-7))\\n        phi = cos_theta * self.cos_m - sin_theta * self.sin_m\\n        if self.easy_margin:\\n            phi = torch.where(cos_theta > 0, phi, cos_theta)\\n        else:\\n            phi = torch.where(cos_theta > self.th, phi, cos_theta - self.mm)\\n        # --------------------------- convert label to one-hot ---------------------------\\n        one_hot = torch.zeros(cos_theta.size(), device='cuda')\\n        one_hot.scatter_(1, ground_truth.view(-1, 1).long(), 1)\\n        # -------------torch.where(out_i = {x_i if condition_i else y_i) -------------\\n        output = (one_hot * phi) + (\\n                (1.0 - one_hot) * cos_theta)  # you can use torch.where if your torch.__version__ is 0.4\\n        output *= self.scale\\n\\n        loss = self.ce(output, ground_truth)\\n        return loss, output\""
      ]
     },
     "execution_count": 6,
     "metadata": {},
     "output_type": "execute_result"
    }
   ],
   "source": [
    "\"\"\"class ArcFace(nn.Module):\n",
    "    def __init__(self, embed_size, num_classes, scale=64, margin=0.5, easy_margin=False, **kwargs):\n",
    "        super().__init__()\n",
    "        self.scale = scale\n",
    "        self.margin = margin\n",
    "        self.ce = nn.CrossEntropyLoss()\n",
    "        self.weight = nn.Parameter(torch.FloatTensor(num_classes, embed_size))\n",
    "        self.easy_margin = easy_margin\n",
    "        self.cos_m = math.cos(margin)\n",
    "        self.sin_m = math.sin(margin)\n",
    "        self.th = math.cos(math.pi - margin)\n",
    "        self.mm = math.sin(math.pi - margin) * margin\n",
    "\n",
    "        nn.init.xavier_uniform_(self.weight)\n",
    "\n",
    "    def forward(self, embedding: torch.Tensor, ground_truth):\n",
    "        # --------------------------- cos(theta) & phi(theta) ---------------------------\n",
    "        cos_theta = F.linear(F.normalize(embedding), F.normalize(self.weight)).clamp(-1 + 1e-7, 1 - 1e-7)\n",
    "        sin_theta = torch.sqrt((1.0 - torch.pow(cos_theta, 2)).clamp(-1 + 1e-7, 1 - 1e-7))\n",
    "        phi = cos_theta * self.cos_m - sin_theta * self.sin_m\n",
    "        if self.easy_margin:\n",
    "            phi = torch.where(cos_theta > 0, phi, cos_theta)\n",
    "        else:\n",
    "            phi = torch.where(cos_theta > self.th, phi, cos_theta - self.mm)\n",
    "        # --------------------------- convert label to one-hot ---------------------------\n",
    "        one_hot = torch.zeros(cos_theta.size(), device='cuda')\n",
    "        one_hot.scatter_(1, ground_truth.view(-1, 1).long(), 1)\n",
    "        # -------------torch.where(out_i = {x_i if condition_i else y_i) -------------\n",
    "        output = (one_hot * phi) + (\n",
    "                (1.0 - one_hot) * cos_theta)  # you can use torch.where if your torch.__version__ is 0.4\n",
    "        output *= self.scale\n",
    "\n",
    "        loss = self.ce(output, ground_truth)\n",
    "        return loss, output\"\"\""
   ]
  },
  {
   "cell_type": "code",
   "execution_count": 7,
   "id": "80061267",
   "metadata": {
    "execution": {
     "iopub.execute_input": "2023-05-30T13:38:09.140817Z",
     "iopub.status.busy": "2023-05-30T13:38:09.140032Z",
     "iopub.status.idle": "2023-05-30T13:38:09.153261Z",
     "shell.execute_reply": "2023-05-30T13:38:09.152464Z"
    },
    "papermill": {
     "duration": 0.021233,
     "end_time": "2023-05-30T13:38:09.155194",
     "exception": false,
     "start_time": "2023-05-30T13:38:09.133961",
     "status": "completed"
    },
    "tags": []
   },
   "outputs": [],
   "source": [
    "class TGramNet(nn.Module):\n",
    "    def __init__(self, mel_bins,win_len, hop_len, num_layers=3, **kwargs):\n",
    "        super(TGramNet, self).__init__()\n",
    "        \n",
    "        self.conv1d = nn.Conv1d(in_channels=1, out_channels=mel_bins, kernel_size=win_len, stride=hop_len, padding=win_len // 2, bias=False)\n",
    "        self.conv_encoder = nn.Sequential(\n",
    "            *[nn.Sequential(\n",
    "                nn.LayerNorm(int(160000//hop_len)+1),\n",
    "                nn.GELU(),\n",
    "                nn.Conv1d(mel_bins, mel_bins, 3, 1, 1, bias=False)\n",
    "            ) for _ in range(num_layers)]\n",
    "        )\n",
    "        \n",
    "    def forward(self, x_w):\n",
    "        x_w = self.conv1d(x_w)\n",
    "        x_w = self.conv_encoder(x_w)\n",
    "        return x_w\n",
    "\n",
    "class STGramNet(nn.Module):\n",
    "    def __init__(self, params):\n",
    "        super(STGramNet, self).__init__()\n",
    "        self.arcface = False\n",
    "        # self.arcface = ArcMarginProduct(in_features=128, out_features=num_classes, m=m, s=s, sub=sub) if use_arcface else use_arcface\n",
    "        self.tgramnet = TGramNet(**params)\n",
    "        # self.classifier = MobileFaceNet(num_class=num_classes, bottleneck_setting=bottleneck_setting)\n",
    "        #self.classifier = nn.Linear(1001, num_classes)\n",
    "        self.t_resnet=resnet18(weights=ResNet18_Weights.IMAGENET1K_V1)\n",
    "        for p in self.t_resnet.parameters():\n",
    "            p.requires_grad = True\n",
    "        #self.t_resnet.fc=nn.Linear(in_features=2048, out_features=384, bias=True)\n",
    "        self.t_resnet.fc=nn.Linear(in_features=512, out_features=384, bias=True)\n",
    "        \n",
    "        self.s_resnet=resnet18(weights=ResNet18_Weights.IMAGENET1K_V1)\n",
    "        for p in self.s_resnet.parameters():\n",
    "            p.requires_grad = True\n",
    "        #self.s_resnet.fc=nn.Linear(in_features=2048, out_features=384, bias=True)\n",
    "        self.s_resnet.fc=nn.Linear(in_features=512, out_features=384, bias=True)\n",
    "        \n",
    "        self.fc=nn.Sequential(nn.Linear(in_features=768, out_features=70),\n",
    "                               nn.BatchNorm1d(70),\n",
    "                               nn.GELU(),\n",
    "                               nn.Linear(in_features=70, out_features=6))\n",
    "        \n",
    "    def forward(self, x_wav, x_mel, label=None):\n",
    "        x_t = self.tgramnet(x_wav).unsqueeze(1).repeat(1, 3, 1, 1)\n",
    "        \n",
    "        x_t = self.t_resnet(x_t)\n",
    "        x_mel = self.s_resnet(x_mel)\n",
    "        \n",
    "        x = torch.cat((x_mel, x_mel), dim=1).to(device) \n",
    "        \n",
    "        out = self.fc(x)\n",
    "        if self.arcface:\n",
    "            out = self.arcface(feature, label)\n",
    "        return out"
   ]
  },
  {
   "cell_type": "code",
   "execution_count": 8,
   "id": "8769eb7f",
   "metadata": {
    "_cell_guid": "d9c40d33-77cd-4466-8940-5e7645cd6d9d",
    "_uuid": "2ab11d80-9e9e-4505-b01c-894efad2df2a",
    "collapsed": false,
    "execution": {
     "iopub.execute_input": "2023-05-30T13:38:09.166842Z",
     "iopub.status.busy": "2023-05-30T13:38:09.166568Z",
     "iopub.status.idle": "2023-05-30T13:38:13.060505Z",
     "shell.execute_reply": "2023-05-30T13:38:13.059544Z"
    },
    "jupyter": {
     "outputs_hidden": false
    },
    "papermill": {
     "duration": 3.902792,
     "end_time": "2023-05-30T13:38:13.063094",
     "exception": false,
     "start_time": "2023-05-30T13:38:09.160302",
     "status": "completed"
    },
    "tags": []
   },
   "outputs": [
    {
     "name": "stderr",
     "output_type": "stream",
     "text": [
      "Downloading: \"https://download.pytorch.org/models/resnet18-f37072fd.pth\" to /root/.cache/torch/hub/checkpoints/resnet18-f37072fd.pth\n",
      "100%|██████████| 44.7M/44.7M [00:00<00:00, 243MB/s]\n"
     ]
    }
   ],
   "source": [
    "device = torch.device('cuda' if torch.cuda.is_available() else 'cpu')\n",
    "\n",
    "# net = convnext_tiny(weights=ConvNeXt_Tiny_Weights.IMAGENET1K_V1)\n",
    "net = STGramNet(params)\n",
    "# for p in net.parameters():\n",
    "#     p.requires_grad = False\n",
    "# net.classifier[2] = nn.Linear(768, 6)\n",
    "# net.fc = torch.nn.Linear(net.fc.in_features, 6)\n",
    "\n",
    "net = net.to(device)\n",
    "dev_train_path = \"/kaggle/input/eurecom-aml-2023-challenge-2/dev_data/dev_data/slider/train\"\n",
    "dev_test_path = \"/kaggle/input/eurecom-aml-2023-challenge-2/dev_data/dev_data/slider/test\"\n",
    "eval_train_path = \"/kaggle/input/eurecom-aml-2023-challenge-2/eval_data/eval_data/slider/train\"\n",
    "eval_test_path = \"/kaggle/input/eurecom-aml-2023-challenge-2/eval_data/eval_data/slider/test\"\n",
    "\n",
    "# mel_dev_train_path = \"/kaggle/input/aml2-melspectrograms/MelSpectrogram/dev_train/\"\n",
    "# mel_dev_test_path = \"/kaggle/input/aml2-melspectrograms/MelSpectrogram/dev_test/\"\n",
    "# mel_eval_train_path = \"/kaggle/input/aml2-melspectrograms/MelSpectrogram/eval_train/\"\n",
    "# mel_eval_test_path = \"/kaggle/input/aml2-melspectrograms/MelSpectrogram/eval_test/\"    \n",
    "\n",
    "# dev_train_ds = AudioDataset(params, dev_train_path, eval_path=dev_train_path)\n",
    "# dev_test_ds = AudioDataset(params, dev_test_path)\n",
    "\n",
    "dev_train_ds = AudioDataset(dev_train_path, params)\n",
    "eval_train_ds = AudioDataset(eval_train_path, params)\n",
    "train_ds = ConcatDataset([dev_train_ds, eval_train_ds])\n",
    "#train_dl=DataLoader(eval_train_ds, batch_size=params[\"batch_size\"], shuffle=True, num_workers=2)\n",
    "train_dl = DataLoader(train_ds, batch_size=params[\"batch_size\"], shuffle=True, num_workers=2)\n",
    "\n",
    "\n",
    "dev_test_ds = AudioDataset(dev_train_path, params)\n",
    "eval_test_ds = AudioDataset(eval_train_path, params)\n",
    "\n",
    "test_ds = ConcatDataset([dev_test_ds, eval_test_ds])\n",
    "test_dl = DataLoader(dev_test_ds, batch_size=params[\"batch_size\"], shuffle=True, num_workers=2)\n",
    "\n",
    "# dev_train_dl = DataLoader(dev_train_ds, batch_size=params[\"batch_size\"], shuffle=True, num_workers=1)\n",
    "# dev_test_dl = DataLoader(dev_test_ds, batch_size=params[\"batch_size\"], shuffle=True, num_workers=1)\n",
    "\n",
    "# net = STGramNet(params).to(device)\n",
    "# net_params = [net_params for net_params in net.parameters() if net_params not in net.resnet.parameters()] + [net.resnet.fc.parameters()]\n",
    "net_params = [\n",
    "    {'params': net.tgramnet.parameters()},\n",
    "    {'params': net.fc.parameters()}\n",
    "]\n",
    "optimizer = torch.optim.Adam(net.parameters(), lr=1e-3)\n",
    "#criterion = ArcFace(params[\"batch_size\"], 6).to(device)\n",
    "criterion = torch.nn.CrossEntropyLoss()"
   ]
  },
  {
   "cell_type": "code",
   "execution_count": 9,
   "id": "38bfe1b5",
   "metadata": {
    "_cell_guid": "ba77ec76-cc45-4d42-967b-cb0404dd0b36",
    "_uuid": "921a2a1a-bdd2-4200-ba4f-0fbbb83a4c7d",
    "collapsed": false,
    "execution": {
     "iopub.execute_input": "2023-05-30T13:38:13.077437Z",
     "iopub.status.busy": "2023-05-30T13:38:13.075842Z",
     "iopub.status.idle": "2023-05-30T13:38:13.081244Z",
     "shell.execute_reply": "2023-05-30T13:38:13.080438Z"
    },
    "jupyter": {
     "outputs_hidden": false
    },
    "papermill": {
     "duration": 0.013989,
     "end_time": "2023-05-30T13:38:13.083119",
     "exception": false,
     "start_time": "2023-05-30T13:38:13.069130",
     "status": "completed"
    },
    "tags": []
   },
   "outputs": [],
   "source": [
    "# create spectrogram dataset\n",
    "# mel_dev_train_path = f\"/kaggle/working/mel_dataset/dev_data/train/\"\n",
    "# mel_dev_test_path = f\"/kaggle/working/mel_dataset/dev_data/test/\"\n",
    "# mel_eval_train_path = f\"/kaggle/working/mel_dataset/eval_data/train/\"\n",
    "# mel_eval_test_path = f\"/kaggle/working/mel_dataset/eval_data/test/\"\n",
    "\n",
    "# for d in [mel_dev_train_path, mel_dev_test_path, mel_eval_train_path, mel_eval_test_path]:\n",
    "    # if not os.path.exists(d):\n",
    "        # os.makedirs(d)\n",
    "\n",
    "    # for audio, mel, _, _, idx, filename in tqdm(train_ds):\n",
    "        # torch.save(mel, f\"{d}/{filename[:-4]}.audiomel\")"
   ]
  },
  {
   "cell_type": "code",
   "execution_count": 10,
   "id": "33f0e567",
   "metadata": {
    "execution": {
     "iopub.execute_input": "2023-05-30T13:38:13.095161Z",
     "iopub.status.busy": "2023-05-30T13:38:13.094904Z",
     "iopub.status.idle": "2023-05-30T13:38:13.100631Z",
     "shell.execute_reply": "2023-05-30T13:38:13.099841Z"
    },
    "papermill": {
     "duration": 0.013982,
     "end_time": "2023-05-30T13:38:13.102599",
     "exception": false,
     "start_time": "2023-05-30T13:38:13.088617",
     "status": "completed"
    },
    "tags": []
   },
   "outputs": [
    {
     "data": {
      "text/plain": [
       "\"device = torch.device('cuda' if torch.cuda.is_available() else 'cpu')\\n\\nnet = convnext_tiny(weights=ConvNeXt_Tiny_Weights.IMAGENET1K_V1)\\nfor param in net.parameters():\\n    param.requires_grad = False\\nnet.classifier[2] = nn.Linear(768, 6)\\nnet = net.to(device)\\noptimizer = torch.optim.Adam(net.parameters(), lr=1e-2)\\ncriterion = torch.nn.CrossEntropyLoss()\\nnet.train()\\naudio, spectrogram, machine_id, label = next(iter(dev_train_dl))\\n\\noptimizer.zero_grad()\\nout = net(spectrogram.to(device))\\nloss = criterion(out, machine_id.to(device))\\n# loss.retain_grad()\\nloss.backward()\\n# print(loss.grad)\\nprint(list(net.parameters())[0][0])\\noptimizer.step()\\nprint(list(net.parameters())[0][0])\""
      ]
     },
     "execution_count": 10,
     "metadata": {},
     "output_type": "execute_result"
    }
   ],
   "source": [
    "\"\"\"device = torch.device('cuda' if torch.cuda.is_available() else 'cpu')\n",
    "\n",
    "net = convnext_tiny(weights=ConvNeXt_Tiny_Weights.IMAGENET1K_V1)\n",
    "for param in net.parameters():\n",
    "    param.requires_grad = False\n",
    "net.classifier[2] = nn.Linear(768, 6)\n",
    "net = net.to(device)\n",
    "optimizer = torch.optim.Adam(net.parameters(), lr=1e-2)\n",
    "criterion = torch.nn.CrossEntropyLoss()\n",
    "net.train()\n",
    "audio, spectrogram, machine_id, label = next(iter(dev_train_dl))\n",
    "\n",
    "optimizer.zero_grad()\n",
    "out = net(spectrogram.to(device))\n",
    "loss = criterion(out, machine_id.to(device))\n",
    "# loss.retain_grad()\n",
    "loss.backward()\n",
    "# print(loss.grad)\n",
    "print(list(net.parameters())[0][0])\n",
    "optimizer.step()\n",
    "print(list(net.parameters())[0][0])\"\"\""
   ]
  },
  {
   "cell_type": "code",
   "execution_count": 11,
   "id": "6d96705a",
   "metadata": {
    "_cell_guid": "ce7001c8-6eb0-44d7-b347-6a8bed9a86b7",
    "_uuid": "e9c41679-8257-4951-8f93-4c3fabd5804e",
    "collapsed": false,
    "execution": {
     "iopub.execute_input": "2023-05-30T13:38:13.115135Z",
     "iopub.status.busy": "2023-05-30T13:38:13.114624Z",
     "iopub.status.idle": "2023-05-30T13:44:44.353346Z",
     "shell.execute_reply": "2023-05-30T13:44:44.351873Z"
    },
    "jupyter": {
     "outputs_hidden": false
    },
    "papermill": {
     "duration": 391.24832,
     "end_time": "2023-05-30T13:44:44.356556",
     "exception": false,
     "start_time": "2023-05-30T13:38:13.108236",
     "status": "completed"
    },
    "tags": []
   },
   "outputs": [
    {
     "name": "stdout",
     "output_type": "stream",
     "text": [
      "epoch 1th\n"
     ]
    },
    {
     "name": "stderr",
     "output_type": "stream",
     "text": [
      "100%|██████████| 1185/1185 [00:56<00:00, 21.04it/s]\n"
     ]
    },
    {
     "name": "stdout",
     "output_type": "stream",
     "text": [
      "1.1528166738492025\n",
      "epoch 2th\n"
     ]
    },
    {
     "name": "stderr",
     "output_type": "stream",
     "text": [
      "100%|██████████| 1185/1185 [00:41<00:00, 28.55it/s]\n"
     ]
    },
    {
     "name": "stdout",
     "output_type": "stream",
     "text": [
      "0.5575147025821581\n",
      "epoch 3th\n"
     ]
    },
    {
     "name": "stderr",
     "output_type": "stream",
     "text": [
      "100%|██████████| 1185/1185 [00:41<00:00, 28.44it/s]\n"
     ]
    },
    {
     "name": "stdout",
     "output_type": "stream",
     "text": [
      "0.3618765070720061\n",
      "epoch 4th\n"
     ]
    },
    {
     "name": "stderr",
     "output_type": "stream",
     "text": [
      "100%|██████████| 1185/1185 [00:42<00:00, 27.73it/s]\n"
     ]
    },
    {
     "name": "stdout",
     "output_type": "stream",
     "text": [
      "0.282857549225102\n",
      "epoch 5th\n"
     ]
    },
    {
     "name": "stderr",
     "output_type": "stream",
     "text": [
      "100%|██████████| 1185/1185 [00:43<00:00, 27.42it/s]\n"
     ]
    },
    {
     "name": "stdout",
     "output_type": "stream",
     "text": [
      "0.24531535553561232\n",
      "epoch 6th\n"
     ]
    },
    {
     "name": "stderr",
     "output_type": "stream",
     "text": [
      "100%|██████████| 1185/1185 [00:41<00:00, 28.54it/s]\n"
     ]
    },
    {
     "name": "stdout",
     "output_type": "stream",
     "text": [
      "0.18476859333881723\n",
      "epoch 7th\n"
     ]
    },
    {
     "name": "stderr",
     "output_type": "stream",
     "text": [
      "100%|██████████| 1185/1185 [00:41<00:00, 28.41it/s]\n"
     ]
    },
    {
     "name": "stdout",
     "output_type": "stream",
     "text": [
      "0.18392968223821216\n",
      "epoch 8th\n"
     ]
    },
    {
     "name": "stderr",
     "output_type": "stream",
     "text": [
      "100%|██████████| 1185/1185 [00:40<00:00, 29.48it/s]\n"
     ]
    },
    {
     "name": "stdout",
     "output_type": "stream",
     "text": [
      "0.14646023504862382\n",
      "epoch 9th\n"
     ]
    },
    {
     "name": "stderr",
     "output_type": "stream",
     "text": [
      "100%|██████████| 1185/1185 [00:42<00:00, 28.03it/s]"
     ]
    },
    {
     "name": "stdout",
     "output_type": "stream",
     "text": [
      "0.1338337997517368\n",
      "done\n"
     ]
    },
    {
     "name": "stderr",
     "output_type": "stream",
     "text": [
      "\n"
     ]
    }
   ],
   "source": [
    "net.train()\n",
    "l = []\n",
    "for e in range(params[\"epochs\"]):\n",
    "    print(f\"epoch {e+1}th\")\n",
    "    epoch_loss = []\n",
    "    for audio, spectrogram, machine_id, _, filename in tqdm(train_dl, total=len(train_dl)):\n",
    "        optimizer.zero_grad()\n",
    "        output = net(audio.to(device), spectrogram.to(device).repeat(1, 3, 1, 1))\n",
    "        loss = criterion(output, machine_id.to(device))\n",
    "#         output.retain_grad()\n",
    "        loss.backward()\n",
    "        # print(output.grad.mean())\n",
    "#         fc_grad = net.resnet.fc.grad.copy()\n",
    "#         net.resnet.grad = torch.zeros_like(net.resnet.grad).to(device).float()\n",
    "#         net.resnet.fc.grad = fc_grad\n",
    "        optimizer.step()\n",
    "        epoch_loss.append(loss.item())\n",
    "    l.append(np.array(epoch_loss).mean())\n",
    "    print(np.array(epoch_loss).mean())\n",
    "        # break\n",
    "print('done')"
   ]
  },
  {
   "cell_type": "code",
   "execution_count": 12,
   "id": "64b79d2e",
   "metadata": {
    "execution": {
     "iopub.execute_input": "2023-05-30T13:44:44.856889Z",
     "iopub.status.busy": "2023-05-30T13:44:44.856486Z",
     "iopub.status.idle": "2023-05-30T13:44:45.179831Z",
     "shell.execute_reply": "2023-05-30T13:44:45.178762Z"
    },
    "papermill": {
     "duration": 0.586816,
     "end_time": "2023-05-30T13:44:45.182240",
     "exception": false,
     "start_time": "2023-05-30T13:44:44.595424",
     "status": "completed"
    },
    "tags": []
   },
   "outputs": [
    {
     "data": {
      "text/plain": [
       "[<matplotlib.lines.Line2D at 0x7a6379e31d20>]"
      ]
     },
     "execution_count": 12,
     "metadata": {},
     "output_type": "execute_result"
    },
    {
     "data": {
      "image/png": "[encoded data removed]",
      "text/plain": [
       "<Figure size 640x480 with 1 Axes>"
      ]
     },
     "metadata": {},
     "output_type": "display_data"
    }
   ],
   "source": [
    "plt.plot(l)"
   ]
  },
  {
   "cell_type": "code",
   "execution_count": null,
   "id": "83404cb8",
   "metadata": {
    "execution": {
     "iopub.execute_input": "2023-05-30T13:44:45.742498Z",
     "iopub.status.busy": "2023-05-30T13:44:45.742124Z",
     "iopub.status.idle": "2023-05-30T13:45:01.178033Z",
     "shell.execute_reply": "2023-05-30T13:45:01.176728Z"
    },
    "papermill": {
     "duration": 15.713047,
     "end_time": "2023-05-30T13:45:01.179519",
     "exception": true,
     "start_time": "2023-05-30T13:44:45.466472",
     "status": "failed"
    },
    "tags": []
   },
   "outputs": [],
   "source": [
    "import pandas as pd\n",
    "from sklearn.metrics import roc_auc_score\n",
    "eval_test_ds = AudioDataset(eval_test_path, params)\n",
    "#eval_test_ds = AudioDataset(eval_test_path, params)\n",
    "\n",
    "# test_ds = ConcatDataset([dev_test_ds, eval_test_ds])\n",
    "test_dl = DataLoader(eval_test_ds, batch_size=32, shuffle=False)\n",
    "names = []\n",
    "scores = []\n",
    "y_true = []\n",
    "y_pred = []\n",
    "net.eval()\n",
    "with torch.no_grad():\n",
    "    for i, (audio, spectrogram, machine_id, label, filename) in tqdm(enumerate(test_dl), total=len(test_dl)):\n",
    "        output = net.forward(audio.to(device), spectrogram.to(device).repeat(1, 3, 1, 1))\n",
    "        softmax = output.softmax(dim=1)\n",
    "        score = softmax[:, machine_id.to(device).argmax(dim=1)].diag()\n",
    "        prob = 1 - score\n",
    "        y_true.extend(label)\n",
    "        y_pred.extend(score.cpu().numpy())\n",
    "        names.extend(filename)\n",
    "        scores.extend(prob.cpu().detach().numpy())\n",
    "    \n",
    "submission_df = pd.DataFrame(names, columns=[\"file_name\"])\n",
    "submission_df[\"anomaly_score\"] = scores\n",
    "submission_df.to_csv(\"/kaggle/working/sample_submission.csv\", index=False)\n"
   ]
  }
 ],
 "metadata": {
  "kernelspec": {
   "display_name": "Python 3",
   "language": "python",
   "name": "python3"
  },
  "language_info": {
   "codemirror_mode": {
    "name": "ipython",
    "version": 3
   },
   "file_extension": ".py",
   "mimetype": "text/x-python",
   "name": "python",
   "nbconvert_exporter": "python",
   "pygments_lexer": "ipython3",
   "version": "3.10.10"
  },
  "papermill": {
   "default_parameters": {},
   "duration": 428.980315,
   "end_time": "2023-05-30T13:45:04.393301",
   "environment_variables": {},
   "exception": true,
   "input_path": "__notebook__.ipynb",
   "output_path": "__notebook__.ipynb",
   "parameters": {},
   "start_time": "2023-05-30T13:37:55.412986",
   "version": "2.4.0"
  }
 },
 "nbformat": 4,
 "nbformat_minor": 5
}
